{
 "cells": [
  {
   "cell_type": "code",
   "execution_count": 192,
   "outputs": [],
   "source": [
    "from PIL import Image\n",
    "import numpy as np\n",
    "import os\n",
    "from collections import Counter"
   ],
   "metadata": {
    "collapsed": false,
    "pycharm": {
     "name": "#%%\n"
    }
   }
  },
  {
   "cell_type": "code",
   "execution_count": 193,
   "outputs": [],
   "source": [
    "BASE_PATH = \"captchas\""
   ],
   "metadata": {
    "collapsed": false,
    "pycharm": {
     "name": "#%%\n"
    }
   }
  },
  {
   "cell_type": "code",
   "execution_count": 194,
   "outputs": [],
   "source": [
    "def get_array_from_image(filepath):\n",
    "    # noinspection PyTypeChecker\n",
    "    return np.asarray(Image.open(filepath))\n",
    "\n",
    "def get_image_from_array(array):\n",
    "    return Image.fromarray(array)"
   ],
   "metadata": {
    "collapsed": false,
    "pycharm": {
     "name": "#%%\n"
    }
   }
  },
  {
   "cell_type": "code",
   "execution_count": 195,
   "outputs": [],
   "source": [
    "def yield_captcha_arrays():\n",
    "    yield from (get_array_from_image(f\"{BASE_PATH}/{fp}\") for fp in os.listdir(BASE_PATH))"
   ],
   "metadata": {
    "collapsed": false,
    "pycharm": {
     "name": "#%%\n"
    }
   }
  },
  {
   "cell_type": "code",
   "execution_count": 196,
   "outputs": [],
   "source": [
    "def get_superimposed_arr(nrrays, shape=(75, 160, 3)):\n",
    "    super_arr = np.empty(shape, np.uint8)\n",
    "    nrrays = list(nrrays)\n",
    "    for i in range(shape[0]):\n",
    "        for j in range(shape[1]):\n",
    "            most_common_pixel = Counter((tuple(narr[i][j]) for narr in nrrays)).most_common(1)[0][0]\n",
    "            super_arr[i][j] = list(most_common_pixel)\n",
    "    return super_arr"
   ],
   "metadata": {
    "collapsed": false,
    "pycharm": {
     "name": "#%%\n"
    }
   }
  },
  {
   "cell_type": "code",
   "execution_count": 197,
   "outputs": [],
   "source": [
    "imposed_array = get_superimposed_arr(yield_captcha_arrays())\n",
    "get_image_from_array(imposed_array).show()"
   ],
   "metadata": {
    "collapsed": false,
    "pycharm": {
     "name": "#%%\n"
    }
   }
  },
  {
   "cell_type": "code",
   "execution_count": 198,
   "outputs": [],
   "source": [
    "get_image_from_array(imposed_array).save(\"vtu_captcha_base.png\")"
   ],
   "metadata": {
    "collapsed": false,
    "pycharm": {
     "name": "#%%\n"
    }
   }
  },
  {
   "cell_type": "code",
   "execution_count": null,
   "outputs": [],
   "source": [],
   "metadata": {
    "collapsed": false,
    "pycharm": {
     "name": "#%%\n"
    }
   }
  }
 ],
 "metadata": {
  "kernelspec": {
   "display_name": "Python 3",
   "language": "python",
   "name": "python3"
  },
  "language_info": {
   "codemirror_mode": {
    "name": "ipython",
    "version": 2
   },
   "file_extension": ".py",
   "mimetype": "text/x-python",
   "name": "python",
   "nbconvert_exporter": "python",
   "pygments_lexer": "ipython2",
   "version": "2.7.6"
  }
 },
 "nbformat": 4,
 "nbformat_minor": 0
}